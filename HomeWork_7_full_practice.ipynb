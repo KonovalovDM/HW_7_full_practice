{
 "cells": [
  {
   "cell_type": "code",
   "execution_count": 2,
   "id": "0be0910c-ac98-47f0-8d8d-6f16d0b4ee85",
   "metadata": {},
   "outputs": [
    {
     "name": "stdout",
     "output_type": "stream",
     "text": [
      "{25: 'male', 28: 'male', 26: 'male', 32: 'male', 42: 'male', 54: 'male', 57: 'male'}\n",
      "7\n",
      "{24: 'female', 45: 'female', 41: 'female', 23: 'female', 27: 'female'}\n",
      "5\n",
      "\n",
      "\n",
      "37.714285714285715\n",
      "32.0\n"
     ]
    }
   ],
   "source": [
    "#Практическая работа по созданию списка словарей и определению среднего возраста в разрезе пола с помощью функции\n",
    "\n",
    "data = [\n",
    "{'name':'igor', 'age':25, 'gender': 'male'},\n",
    "{'name':'dasha', 'age': 24, 'gender': 'female'},\n",
    "{'name':'martin', 'age': 28, 'gender': 'male'},\n",
    "{'name':'vladimir', 'age': 26, 'gender': 'male'},\n",
    "{'name':'rishat', 'age': 32, 'gender': 'male'},\n",
    "{'name':'maria', 'age': 45, 'gender': 'female'},\n",
    "{'name':'marat', 'age': 42, 'gender': 'male'},\n",
    "{'name':'petr', 'age': 54, 'gender': 'male'},\n",
    "{'name':'dima', 'age': 57, 'gender': 'male'},\n",
    "{'name':'polina', 'age': 41, 'gender': 'female'},\n",
    "{'name':'katya', 'age': 23, 'gender': 'female'},\n",
    "{'name':'elena', 'age': 27, 'gender': 'female'},\n",
    "]\n",
    "\n",
    "\n",
    "#Создаем словари из списка словарей, выбираем только пол человека и забираем его возраст\n",
    "\"\"\"Функция для создания словарей с выбранным полом и соответствующим возрастом\"\"\"\n",
    "def genders_m_f(age, gender):\n",
    "    return {data['age']: data['gender'] for data in data if data['gender'] == gender}\n",
    "\n",
    "#контроль работы функции\n",
    "print(genders_m_f(data, 'male'))\n",
    "print(len(genders_m_f(data, 'male')))\n",
    "print(genders_m_f(data, 'female'))\n",
    "print(len(genders_m_f(data, 'female')))\n",
    "\n",
    "\"\"\"Функция для определения среднего возраста по соответствующему полу\"\"\"\n",
    "def avg_ages_filter_genders(info, gender):\n",
    "    return sum(st['age'] for st in info if st['gender'] == gender) / len(genders_m_f(data, gender))\n",
    "\n",
    "#контроль работы функции\n",
    "print('\\n')\n",
    "print(avg_ages_filter_genders(data, 'male'))\n",
    "print(avg_ages_filter_genders(data, 'female'))"
   ]
  },
  {
   "cell_type": "code",
   "execution_count": 6,
   "id": "a6ae02a6-6a1d-4003-a04d-b0ddb1281821",
   "metadata": {},
   "outputs": [
    {
     "name": "stdout",
     "output_type": "stream",
     "text": [
      "Словарь имен c возрастом и полом:{'name': 'elena', 'age': 27, 'gender': 'female'}\n",
      "\n",
      "Список словарей:\n",
      " data =  [{'name': 'igor', 'age': 25, 'gender': 'male'}, {'name': 'dasha', 'age': 24, 'gender': 'female'}, {'name': 'martin', 'age': 28, 'gender': 'male'}, {'name': 'vladimir', 'age': 26, 'gender': 'male'}, {'name': 'rishat', 'age': 32, 'gender': 'male'}, {'name': 'maria', 'age': 45, 'gender': 'female'}, {'name': 'marat', 'age': 42, 'gender': 'male'}, {'name': 'petr', 'age': 54, 'gender': 'male'}, {'name': 'dima', 'age': 57, 'gender': 'male'}, {'name': 'polina', 'age': 41, 'gender': 'female'}, {'name': 'katya', 'age': 23, 'gender': 'female'}, {'name': 'elena', 'age': 27, 'gender': 'female'}]\n",
      "\n",
      "длина в \"name\" =  12\n",
      "длина в \"name_age_gender_dict\" =  3\n",
      "длина в \"data\" =  12\n"
     ]
    }
   ],
   "source": [
    "# Практическая работа по созданию списка словарей\n",
    "\n",
    "names = ['igor', 'dasha', 'martin', 'vladimir', 'rishat', 'maria', 'marat', 'petr', 'dima', 'polina', 'katya', 'elena']\n",
    "ages = ['25', '24', '28', '26', '32', '45', '42', '54', '57', '41', '23', '27']\n",
    "genders = ['male', 'female', 'male', 'male', 'male', 'female', 'male', 'male', 'male', 'female', 'female', 'female']\n",
    "\n",
    "# определяем список для запаковки словарей\n",
    "data = []\n",
    "\n",
    "# создаем словарь имен с возрастом и полом\n",
    "name_age_gender_dict = {}\n",
    "\n",
    "# набиваем в цикле список словарями из списков имен с возрастом и полом\n",
    "\n",
    "for i in range(len(names)):\n",
    "    name_age_gender_dict = {\n",
    "        'name': names[i],\n",
    "        'age': int(ages[i]),\n",
    "        'gender': genders[i],\n",
    "    }\n",
    "    data.append(name_age_gender_dict)\n",
    "\n",
    "print(f'''Словарь имен c возрастом и полом:{name_age_gender_dict}''')\n",
    "print(f'\\nСписок словарей:\\n data = ', data)\n",
    "\n",
    "# что не так с длиной ренджа?\n",
    "print(f'\\nдлина в \"name\" = ', len(names))\n",
    "print(f'длина в \"name_age_gender_dict\" = ', len(name_age_gender_dict))\n",
    "print(f'длина в \"data\" = ', len(data))"
   ]
  },
  {
   "cell_type": "code",
   "execution_count": 12,
   "id": "ad2e4089-0552-4bca-9304-4e7c62225cbd",
   "metadata": {},
   "outputs": [
    {
     "name": "stdout",
     "output_type": "stream",
     "text": [
      "\n",
      "Список словарей:\n",
      " data =  [{'name': 'igor', 'age': 25, 'gender': 'male'}, {'name': 'dasha', 'age': 24, 'gender': 'female'}, {'name': 'martin', 'age': 28, 'gender': 'male'}, {'name': 'vladimir', 'age': 26, 'gender': 'male'}, {'name': 'rishat', 'age': 32, 'gender': 'male'}, {'name': 'maria', 'age': 45, 'gender': 'female'}, {'name': 'marat', 'age': 42, 'gender': 'male'}, {'name': 'petr', 'age': 54, 'gender': 'male'}, {'name': 'dima', 'age': 57, 'gender': 'male'}, {'name': 'polina', 'age': 41, 'gender': 'female'}, {'name': 'katya', 'age': 23, 'gender': 'female'}, {'name': 'elena', 'age': 27, 'gender': 'female'}]\n",
      "{25: 'male', 28: 'male', 26: 'male', 32: 'male', 42: 'male', 54: 'male', 57: 'male'}\n",
      "7\n",
      "{24: 'female', 45: 'female', 41: 'female', 23: 'female', 27: 'female'}\n",
      "5\n",
      "\n",
      "\n",
      "37.714\n",
      "32.0\n"
     ]
    }
   ],
   "source": [
    "#Практическая работа по созданию списка словарей и определению среднего возраста в разрезе пола с помощью функции\n",
    "\n",
    "names = ['igor', 'dasha', 'martin', 'vladimir', 'rishat', 'maria', 'marat', 'petr', 'dima', 'polina', 'katya', 'elena']\n",
    "ages = ['25', '24', '28', '26', '32', '45', '42', '54', '57', '41', '23', '27']\n",
    "genders = ['male', 'female', 'male', 'male', 'male', 'female', 'male', 'male', 'male', 'female', 'female', 'female']\n",
    "\n",
    "# определяем список для запаковки словарей\n",
    "data = []\n",
    "\n",
    "# создаем словарь имен с возрастом и полом\n",
    "name_age_gender_dict = {}\n",
    "\n",
    "# набиваем в цикле список словарями из списков имен с возрастом и полом\n",
    "\n",
    "for i in range(len(names)):\n",
    "    name_age_gender_dict = {\n",
    "        'name': names[i],\n",
    "        'age': int(ages[i]),\n",
    "        'gender': genders[i],\n",
    "    }\n",
    "    data.append(name_age_gender_dict)\n",
    "\n",
    "print(f'\\nСписок словарей:\\n data = ', data)\n",
    "\n",
    "#Создаем словари из списка словарей, выбираем только пол человека и забираем его возраст\n",
    "\"\"\"Функция для создания словарей с выбранным полом и соответствующим возрастом\"\"\"\n",
    "def genders_m_f(age, gender):\n",
    "    return {data['age']: data['gender'] for data in data if data['gender'] == gender}\n",
    "\n",
    "#контроль работы функции\n",
    "print(genders_m_f(data, 'male'))\n",
    "print(len(genders_m_f(data, 'male')))\n",
    "print(genders_m_f(data, 'female'))\n",
    "print(len(genders_m_f(data, 'female')))\n",
    "\n",
    "\"\"\"Функция для определения среднего возраста по соответствующему полу\"\"\"\n",
    "def avg_ages_filter_genders(info, gender):\n",
    "    return sum(st['age'] for st in info if st['gender'] == gender) / len(genders_m_f(data, gender))\n",
    "\n",
    "#контроль работы функции\n",
    "print('\\n')\n",
    "print(round(avg_ages_filter_genders(data, 'male'),3))\n",
    "print(round(avg_ages_filter_genders(data, 'female'),3))"
   ]
  },
  {
   "cell_type": "code",
   "execution_count": null,
   "id": "e5e84c62-f920-4d8b-af87-5eda5da73ffe",
   "metadata": {},
   "outputs": [],
   "source": []
  }
 ],
 "metadata": {
  "kernelspec": {
   "display_name": "Python 3 (ipykernel)",
   "language": "python",
   "name": "python3"
  },
  "language_info": {
   "codemirror_mode": {
    "name": "ipython",
    "version": 3
   },
   "file_extension": ".py",
   "mimetype": "text/x-python",
   "name": "python",
   "nbconvert_exporter": "python",
   "pygments_lexer": "ipython3",
   "version": "3.11.7"
  }
 },
 "nbformat": 4,
 "nbformat_minor": 5
}
